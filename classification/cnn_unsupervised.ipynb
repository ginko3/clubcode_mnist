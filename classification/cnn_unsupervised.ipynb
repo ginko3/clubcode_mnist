{
 "cells": [
  {
   "cell_type": "code",
   "execution_count": 41,
   "metadata": {},
   "outputs": [],
   "source": [
    "import keras\n",
    "from keras.models import Sequential\n",
    "from keras.layers.convolutional import Convolution2D, MaxPooling2D, UpSampling2D\n",
    "from keras.layers.core import Flatten, Dense, Dropout, Reshape\n",
    "from keras.optimizers import SGD\n",
    "from keras.callbacks import Callback\n",
    "from keras.datasets import mnist\n",
    "\n",
    "import numpy as np\n",
    "from matplotlib import pyplot as plt\n",
    "%matplotlib inline"
   ]
  },
  {
   "cell_type": "markdown",
   "metadata": {},
   "source": [
    "# Utils"
   ]
  },
  {
   "cell_type": "code",
   "execution_count": 9,
   "metadata": {
    "collapsed": true
   },
   "outputs": [],
   "source": [
    "def plotHistory(loss):\n",
    "    plt.plot(loss)\n",
    "    plt.title('loss through training')\n",
    "    plt.ylabel('loss')\n",
    "    plt.xlabel('batch')"
   ]
  },
  {
   "cell_type": "markdown",
   "metadata": {},
   "source": [
    "# Dataset"
   ]
  },
  {
   "cell_type": "code",
   "execution_count": 3,
   "metadata": {},
   "outputs": [
    {
     "name": "stdout",
     "output_type": "stream",
     "text": [
      "Downloading data from https://s3.amazonaws.com/img-datasets/mnist.npz\n",
      "11493376/11490434 [==============================] - 4s 0us/step\n",
      "training data: (60000, 28, 28, 1)\n",
      "testing data: (10000, 28, 28, 1)\n"
     ]
    }
   ],
   "source": [
    "(x_train, y_train), (x_test, y_test) = mnist.load_data()\n",
    "\n",
    "x_train = x_train.reshape(x_train.shape[0], 28, 28, 1)\n",
    "x_test = x_test.reshape(x_test.shape[0], 28, 28, 1)\n",
    "x_train = x_train.astype('float16') / 255.\n",
    "x_test = x_test.astype('float16') / 255.\n",
    "\n",
    "y_train = keras.utils.to_categorical(y_train, 10)\n",
    "y_test = keras.utils.to_categorical(y_test, 10)\n",
    "\n",
    "print(\"training data: {}\".format(x_train.shape))\n",
    "print(\"testing data: {}\".format(x_test.shape))"
   ]
  },
  {
   "cell_type": "markdown",
   "metadata": {},
   "source": [
    "# Network"
   ]
  },
  {
   "cell_type": "code",
   "execution_count": 94,
   "metadata": {
    "scrolled": false
   },
   "outputs": [
    {
     "name": "stdout",
     "output_type": "stream",
     "text": [
      "_________________________________________________________________\n",
      "Layer (type)                 Output Shape              Param #   \n",
      "=================================================================\n",
      "sequential_32 (Sequential)   (None, 10)                2490      \n",
      "_________________________________________________________________\n",
      "sequential_33 (Sequential)   (None, 28, 28, 1)         2525      \n",
      "=================================================================\n",
      "Total params: 5,015\n",
      "Trainable params: 5,015\n",
      "Non-trainable params: 0\n",
      "_________________________________________________________________\n"
     ]
    }
   ],
   "source": [
    "model = Sequential([\n",
    "    Convolution2D(16, kernel_size=5, padding=\"same\", activation=\"relu\", input_shape=(28, 28, 1,)),\n",
    "    MaxPooling2D(pool_size=(2, 2), strides=(2, 2)),\n",
    "    Dropout(0.2),\n",
    "    \n",
    "    Convolution2D(16, kernel_size=5, padding=\"same\", activation=\"relu\"),\n",
    "    MaxPooling2D(pool_size=(2, 2), strides=(2, 2)),\n",
    "    Dropout(0.2),\n",
    "    \n",
    "    Flatten(),\n",
    "    Dense(10, activation=\"softmax\"),\n",
    "])\n",
    "encoder = Sequential([\n",
    "    Convolution2D(8, kernel_size=3, padding=\"same\", activation=\"relu\", input_shape=(28, 28, 1,)),\n",
    "    MaxPooling2D(pool_size=(2, 2), strides=(2, 2)),\n",
    "    Dropout(0.2),\n",
    "    Convolution2D(4, kernel_size=3, padding=\"same\", activation=\"relu\"),\n",
    "    MaxPooling2D(pool_size=(2, 2), strides=(2, 2)),\n",
    "    Convolution2D(4, kernel_size=3, padding=\"same\", activation=\"relu\"),\n",
    "    \n",
    "    Flatten(),\n",
    "    Dense(10, activation=\"softmax\"),\n",
    "])\n",
    "decoder = Sequential([\n",
    "    Dense(196, activation=\"relu\", input_shape=(10,)),\n",
    "    Reshape((7, 7, 4)),\n",
    "    \n",
    "    UpSampling2D(size=2),\n",
    "    Convolution2D(8, kernel_size=3, padding=\"same\", activation=\"relu\"),\n",
    "    UpSampling2D(size=2),\n",
    "    Convolution2D(1, kernel_size=3, padding=\"same\", activation=\"relu\")\n",
    "])\n",
    "\n",
    "autoencoder = Sequential([\n",
    "    encoder,\n",
    "    decoder\n",
    "])\n",
    "\n",
    "autoencoder.summary()\n",
    "# model.summary()"
   ]
  },
  {
   "cell_type": "markdown",
   "metadata": {},
   "source": [
    "# Hyper Parameters"
   ]
  },
  {
   "cell_type": "code",
   "execution_count": 95,
   "metadata": {
    "collapsed": true
   },
   "outputs": [],
   "source": [
    "sgd = SGD(lr=0.01, momentum=0.9, decay=1e-6)\n",
    "model.compile(loss='categorical_crossentropy',\n",
    "              optimizer=sgd,\n",
    "              metrics=['accuracy'])\n",
    "\n",
    "autoencoder.compile(loss='mean_squared_error',\n",
    "                   optimizer=sgd)\n",
    "\n",
    "decoder.compile(loss='mean_squared_error',\n",
    "                   optimizer=sgd)"
   ]
  },
  {
   "cell_type": "markdown",
   "metadata": {},
   "source": [
    "# Training"
   ]
  },
  {
   "cell_type": "code",
   "execution_count": 96,
   "metadata": {
    "collapsed": true
   },
   "outputs": [],
   "source": [
    "class LossHistory(Callback):\n",
    "    def on_train_begin(self, logs={}):\n",
    "        self.loss = []\n",
    "        self.acc = []\n",
    "\n",
    "    def on_batch_end(self, batch, logs={}):\n",
    "        self.loss.append(logs.get('loss'))\n",
    "        self.acc.append(logs.get('acc'))"
   ]
  },
  {
   "cell_type": "code",
   "execution_count": 97,
   "metadata": {},
   "outputs": [
    {
     "name": "stdout",
     "output_type": "stream",
     "text": [
      "Train on 60000 samples, validate on 10000 samples\n",
      "Epoch 1/3\n",
      "60000/60000 [==============================] - 22s 372us/step - loss: 0.0819 - val_loss: 0.0690\n",
      "Epoch 2/3\n",
      "60000/60000 [==============================] - 22s 366us/step - loss: 0.0646 - val_loss: 0.0618\n",
      "Epoch 3/3\n",
      "60000/60000 [==============================] - 24s 400us/step - loss: 0.0601 - val_loss: 0.0586\n"
     ]
    },
    {
     "data": {
      "text/plain": [
       "<keras.callbacks.History at 0x7f62566f6320>"
      ]
     },
     "execution_count": 97,
     "metadata": {},
     "output_type": "execute_result"
    }
   ],
   "source": [
    "history = LossHistory()\n",
    "# model.fit(x_train, y_train, validation_data=(x_test, y_test), epochs=1, batch_size=128, callbacks=[history])\n",
    "# autoencoder.fit(x_train, x_train, validation_data=(x_test, x_test), epochs=1, batch_size=128, callbacks=[history])\n",
    "decoder.fit(y_train, x_train, validation_data=(y_test, x_test), epochs=3, batch_size=128, callbacks=[history])"
   ]
  },
  {
   "cell_type": "code",
   "execution_count": 98,
   "metadata": {
    "scrolled": false
   },
   "outputs": [
    {
     "data": {
      "image/png": "[encoded data removed]",
      "text/plain": [
       "<matplotlib.figure.Figure at 0x7f62746124a8>"
      ]
     },
     "metadata": {},
     "output_type": "display_data"
    }
   ],
   "source": [
    "plotHistory(history.loss)"
   ]
  },
  {
   "cell_type": "code",
   "execution_count": 105,
   "metadata": {
    "scrolled": false
   },
   "outputs": [
    {
     "data": {
      "image/png": "[encoded data removed]",
      "text/plain": [
       "<matplotlib.figure.Figure at 0x7f6256038f60>"
      ]
     },
     "metadata": {},
     "output_type": "display_data"
    }
   ],
   "source": [
    "n_image = 5\n",
    "\n",
    "display_index = np.random.choice(x_test.shape[0], n_image)\n",
    "images = np.array([x_train[i] for i in display_index])\n",
    "netout = autoencoder.predict(images)\n",
    "\n",
    "plt.figure(figsize=(20, 10))\n",
    "\n",
    "for i in range(n_image):\n",
    "    ax = plt.subplot(2, n_image, i + 1)\n",
    "    plt.imshow(images[i].reshape(28, 28).astype('float32'), cmap=\"gray\")\n",
    "    ax.get_xaxis().set_visible(False)\n",
    "    ax.get_yaxis().set_visible(False)\n",
    "    \n",
    "    ax = plt.subplot(2, n_image, n_image + i + 1)\n",
    "    plt.imshow(netout[i].reshape(28, 28).astype('float32'), cmap=\"gray\")\n",
    "    ax.get_xaxis().set_visible(False)\n",
    "    ax.get_yaxis().set_visible(False)\n",
    "\n"
   ]
  },
  {
   "cell_type": "markdown",
   "metadata": {},
   "source": [
    "# Test"
   ]
  },
  {
   "cell_type": "code",
   "execution_count": 61,
   "metadata": {},
   "outputs": [
    {
     "data": {
      "image/png": "[encoded data removed]",
      "text/plain": [
       "<matplotlib.figure.Figure at 0x7f62742c4d30>"
      ]
     },
     "metadata": {},
     "output_type": "display_data"
    }
   ],
   "source": [
    "n_image = 5\n",
    "\n",
    "display_index = np.random.choice(x_test.shape[0], n_image)\n",
    "images = np.array([x_train[i] for i in display_index])\n",
    "id_class = np.argmax(model.predict(images), axis=1)\n",
    "\n",
    "plt.figure(figsize=(20, 4))\n",
    "\n",
    "for i in range(n_image):\n",
    "    ax = plt.subplot(1, n_image, i + 1)\n",
    "    plt.imshow(images[i].reshape(28, 28).astype('float32'), cmap=\"gray\")\n",
    "    ax.get_xaxis().set_visible(False)\n",
    "    ax.get_yaxis().set_visible(False)\n",
    "    \n",
    "    ax.set_title(\"{0}\".format(id_class[i]))\n",
    "    "
   ]
  }
 ],
 "metadata": {
  "kernelspec": {
   "display_name": "Python 3",
   "language": "python",
   "name": "python3"
  },
  "language_info": {
   "codemirror_mode": {
    "name": "ipython",
    "version": 3
   },
   "file_extension": ".py",
   "mimetype": "text/x-python",
   "name": "python",
   "nbconvert_exporter": "python",
   "pygments_lexer": "ipython3",
   "version": "3.4.3"
  }
 },
 "nbformat": 4,
 "nbformat_minor": 2
}
